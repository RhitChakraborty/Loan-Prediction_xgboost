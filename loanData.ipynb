{
 "cells": [
  {
   "cell_type": "code",
   "execution_count": 488,
   "metadata": {},
   "outputs": [],
   "source": [
    "import pandas as pd\n",
    "import numpy as np\n",
    "import sklearn\n",
    "from statistics import mean \n",
    "from sklearn import linear_model,naive_bayes,neighbors,ensemble\n",
    "from sklearn import preprocessing,model_selection\n",
    "from sklearn.model_selection import GridSearchCV\n",
    "import xgboost as xgb\n",
    "from xgboost import XGBClassifier"
   ]
  },
  {
   "cell_type": "code",
   "execution_count": 489,
   "metadata": {},
   "outputs": [],
   "source": [
    "from sklearn import metrics as skmetrics\n",
    "class ClassificationMetrics():\n",
    "    def __init__(self):\n",
    "        self.metrics={\n",
    "            'accuracy':self._accuracy,\n",
    "            'f1':self._f1,\n",
    "            'recall':self._recall,\n",
    "            'precision':self._precision,\n",
    "            'auc':self._auc,\n",
    "            'logloss':self._logloss\n",
    "        }\n",
    "        \n",
    "    def __call__(self,metric,y_test,y_pred,y_proba=None):\n",
    "        if metric not in self.metrics:\n",
    "            raise Exception('Metric not known')\n",
    "        if metric=='auc':\n",
    "            if y_proba is not None:\n",
    "                return self._auc(y_test=y_test,y_pred=y_proba)\n",
    "            else:\n",
    "                raise Exception('y_proba can\\'t be none')\n",
    "        if metric=='logloss':\n",
    "            if y_proba is not None:\n",
    "                return self._logloss(y_test=y_test,y_pred=y_proba)\n",
    "            else:\n",
    "                raise Exception('y_proba can\\'t be none')\n",
    "        else:\n",
    "            return self.metrics[metric](y_test=y_test,y_pred=y_pred)\n",
    "    \n",
    "    @staticmethod\n",
    "    def _accuracy(y_test,y_pred):\n",
    "        return skmetrics.accuracy_score(y_true=y_test,y_pred=y_pred)\n",
    "    \n",
    "    @staticmethod\n",
    "    def _f1(y_test,y_pred):\n",
    "        return skmetrics.f1_score(y_true=y_test,y_pred=y_pred)\n",
    "    \n",
    "    @staticmethod\n",
    "    def _recall(y_test,y_pred):\n",
    "        return skmetrics.recall_score(y_true=y_test,y_pred=y_pred)\n",
    "    \n",
    "    @staticmethod\n",
    "    def _precision(y_test,y_pred):\n",
    "        return skmetrics.precision_score(y_true=y_test,y_pred=y_pred)\n",
    "    \n",
    "    @staticmethod\n",
    "    def _auc(y_test,y_pred):\n",
    "        return skmetrics.roc_auc_score(y_true=y_test,y_score=y_pred)\n",
    "    \n",
    "    @staticmethod\n",
    "    def _logloss(y_test,y_pred):\n",
    "        return skmetrics.log_loss(y_true=y_test,y_pred=y_pred)"
   ]
  },
  {
   "cell_type": "code",
   "execution_count": 491,
   "metadata": {},
   "outputs": [],
   "source": [
    "train_backup=pd.read_csv('train.csv')\n",
    "test_backup=pd.read_csv('test.csv')\n",
    "sample=pd.read_csv('sample_submission.csv')"
   ]
  },
  {
   "cell_type": "markdown",
   "metadata": {},
   "source": [
    "# Preprocessing"
   ]
  },
  {
   "cell_type": "code",
   "execution_count": 534,
   "metadata": {},
   "outputs": [],
   "source": [
    "train=train_backup.copy()\n",
    "test=test_backup.copy()"
   ]
  },
  {
   "cell_type": "code",
   "execution_count": 535,
   "metadata": {},
   "outputs": [
    {
     "data": {
      "text/html": [
       "<div>\n",
       "<style scoped>\n",
       "    .dataframe tbody tr th:only-of-type {\n",
       "        vertical-align: middle;\n",
       "    }\n",
       "\n",
       "    .dataframe tbody tr th {\n",
       "        vertical-align: top;\n",
       "    }\n",
       "\n",
       "    .dataframe thead th {\n",
       "        text-align: right;\n",
       "    }\n",
       "</style>\n",
       "<table border=\"1\" class=\"dataframe\">\n",
       "  <thead>\n",
       "    <tr style=\"text-align: right;\">\n",
       "      <th></th>\n",
       "      <th>Loan_ID</th>\n",
       "      <th>Gender</th>\n",
       "      <th>Married</th>\n",
       "      <th>Dependents</th>\n",
       "      <th>Education</th>\n",
       "      <th>Self_Employed</th>\n",
       "      <th>ApplicantIncome</th>\n",
       "      <th>CoapplicantIncome</th>\n",
       "      <th>LoanAmount</th>\n",
       "      <th>Loan_Amount_Term</th>\n",
       "      <th>Credit_History</th>\n",
       "      <th>Property_Area</th>\n",
       "      <th>Loan_Status</th>\n",
       "    </tr>\n",
       "  </thead>\n",
       "  <tbody>\n",
       "    <tr>\n",
       "      <th>0</th>\n",
       "      <td>LP001002</td>\n",
       "      <td>Male</td>\n",
       "      <td>No</td>\n",
       "      <td>0</td>\n",
       "      <td>Graduate</td>\n",
       "      <td>No</td>\n",
       "      <td>5849</td>\n",
       "      <td>0.0</td>\n",
       "      <td>NaN</td>\n",
       "      <td>360.0</td>\n",
       "      <td>1.0</td>\n",
       "      <td>Urban</td>\n",
       "      <td>Y</td>\n",
       "    </tr>\n",
       "    <tr>\n",
       "      <th>1</th>\n",
       "      <td>LP001003</td>\n",
       "      <td>Male</td>\n",
       "      <td>Yes</td>\n",
       "      <td>1</td>\n",
       "      <td>Graduate</td>\n",
       "      <td>No</td>\n",
       "      <td>4583</td>\n",
       "      <td>1508.0</td>\n",
       "      <td>128.0</td>\n",
       "      <td>360.0</td>\n",
       "      <td>1.0</td>\n",
       "      <td>Rural</td>\n",
       "      <td>N</td>\n",
       "    </tr>\n",
       "    <tr>\n",
       "      <th>2</th>\n",
       "      <td>LP001005</td>\n",
       "      <td>Male</td>\n",
       "      <td>Yes</td>\n",
       "      <td>0</td>\n",
       "      <td>Graduate</td>\n",
       "      <td>Yes</td>\n",
       "      <td>3000</td>\n",
       "      <td>0.0</td>\n",
       "      <td>66.0</td>\n",
       "      <td>360.0</td>\n",
       "      <td>1.0</td>\n",
       "      <td>Urban</td>\n",
       "      <td>Y</td>\n",
       "    </tr>\n",
       "    <tr>\n",
       "      <th>3</th>\n",
       "      <td>LP001006</td>\n",
       "      <td>Male</td>\n",
       "      <td>Yes</td>\n",
       "      <td>0</td>\n",
       "      <td>Not Graduate</td>\n",
       "      <td>No</td>\n",
       "      <td>2583</td>\n",
       "      <td>2358.0</td>\n",
       "      <td>120.0</td>\n",
       "      <td>360.0</td>\n",
       "      <td>1.0</td>\n",
       "      <td>Urban</td>\n",
       "      <td>Y</td>\n",
       "    </tr>\n",
       "    <tr>\n",
       "      <th>4</th>\n",
       "      <td>LP001008</td>\n",
       "      <td>Male</td>\n",
       "      <td>No</td>\n",
       "      <td>0</td>\n",
       "      <td>Graduate</td>\n",
       "      <td>No</td>\n",
       "      <td>6000</td>\n",
       "      <td>0.0</td>\n",
       "      <td>141.0</td>\n",
       "      <td>360.0</td>\n",
       "      <td>1.0</td>\n",
       "      <td>Urban</td>\n",
       "      <td>Y</td>\n",
       "    </tr>\n",
       "  </tbody>\n",
       "</table>\n",
       "</div>"
      ],
      "text/plain": [
       "    Loan_ID Gender Married Dependents     Education Self_Employed  \\\n",
       "0  LP001002   Male      No          0      Graduate            No   \n",
       "1  LP001003   Male     Yes          1      Graduate            No   \n",
       "2  LP001005   Male     Yes          0      Graduate           Yes   \n",
       "3  LP001006   Male     Yes          0  Not Graduate            No   \n",
       "4  LP001008   Male      No          0      Graduate            No   \n",
       "\n",
       "   ApplicantIncome  CoapplicantIncome  LoanAmount  Loan_Amount_Term  \\\n",
       "0             5849                0.0         NaN             360.0   \n",
       "1             4583             1508.0       128.0             360.0   \n",
       "2             3000                0.0        66.0             360.0   \n",
       "3             2583             2358.0       120.0             360.0   \n",
       "4             6000                0.0       141.0             360.0   \n",
       "\n",
       "   Credit_History Property_Area Loan_Status  \n",
       "0             1.0         Urban           Y  \n",
       "1             1.0         Rural           N  \n",
       "2             1.0         Urban           Y  \n",
       "3             1.0         Urban           Y  \n",
       "4             1.0         Urban           Y  "
      ]
     },
     "execution_count": 535,
     "metadata": {},
     "output_type": "execute_result"
    }
   ],
   "source": [
    "train.head()"
   ]
  },
  {
   "cell_type": "code",
   "execution_count": 536,
   "metadata": {},
   "outputs": [
    {
     "data": {
      "text/plain": [
       "(614, 13)"
      ]
     },
     "execution_count": 536,
     "metadata": {},
     "output_type": "execute_result"
    }
   ],
   "source": [
    "train.shape"
   ]
  },
  {
   "cell_type": "code",
   "execution_count": 537,
   "metadata": {},
   "outputs": [
    {
     "data": {
      "text/plain": [
       "Loan_ID               0\n",
       "Gender               13\n",
       "Married               3\n",
       "Dependents           15\n",
       "Education             0\n",
       "Self_Employed        32\n",
       "ApplicantIncome       0\n",
       "CoapplicantIncome     0\n",
       "LoanAmount           22\n",
       "Loan_Amount_Term     14\n",
       "Credit_History       50\n",
       "Property_Area         0\n",
       "Loan_Status           0\n",
       "dtype: int64"
      ]
     },
     "execution_count": 537,
     "metadata": {},
     "output_type": "execute_result"
    }
   ],
   "source": [
    "#checking nulls\n",
    "train.isnull().sum()"
   ]
  },
  {
   "cell_type": "code",
   "execution_count": 538,
   "metadata": {},
   "outputs": [],
   "source": [
    "#imputing missing values:\n",
    "col=['Gender','Married','Self_Employed','Dependents','Credit_History','Loan_Amount_Term']\n",
    "cols=[]\n",
    "for c in col:\n",
    "    train.loc[:,c]=train.loc[:,col].fillna('-99999').astype(str)"
   ]
  },
  {
   "cell_type": "code",
   "execution_count": 539,
   "metadata": {},
   "outputs": [
    {
     "name": "stdout",
     "output_type": "stream",
     "text": [
      "Loan_ID 614\n",
      "Gender 3\n",
      "Married 3\n",
      "Dependents 5\n",
      "Education 2\n",
      "Self_Employed 3\n",
      "ApplicantIncome 505\n",
      "CoapplicantIncome 287\n",
      "LoanAmount 203\n",
      "Loan_Amount_Term 11\n",
      "Credit_History 3\n",
      "Property_Area 3\n",
      "Loan_Status 2\n"
     ]
    }
   ],
   "source": [
    "#number of catergories\n",
    "for c in train.columns.values:\n",
    "    print(c,train[c].nunique())"
   ]
  },
  {
   "cell_type": "code",
   "execution_count": 540,
   "metadata": {},
   "outputs": [],
   "source": [
    "#categorical encoding\n",
    "cols_le=['Dependents','Education','Property_Area','Loan_Amount_Term','Loan_Status']\n",
    "for c in cols_le:\n",
    "    le=preprocessing.LabelEncoder()\n",
    "    le.fit(train[c].values)\n",
    "    train.loc[:,c]=le.transform(train[c].values)"
   ]
  },
  {
   "cell_type": "code",
   "execution_count": 541,
   "metadata": {},
   "outputs": [],
   "source": [
    "cols=['Gender','Married','Self_Employed','Credit_History']\n",
    "for c in cols:\n",
    "    df=pd.get_dummies(train[c],prefix=c,prefix_sep=':')\n",
    "    train=pd.concat([train,df],axis=1)"
   ]
  },
  {
   "cell_type": "code",
   "execution_count": 542,
   "metadata": {},
   "outputs": [
    {
     "data": {
      "text/plain": [
       "Index(['Loan_ID', 'Gender', 'Married', 'Dependents', 'Education',\n",
       "       'Self_Employed', 'ApplicantIncome', 'CoapplicantIncome', 'LoanAmount',\n",
       "       'Loan_Amount_Term', 'Credit_History', 'Property_Area', 'Loan_Status',\n",
       "       'Gender:-99999', 'Gender:Female', 'Gender:Male', 'Married:-99999',\n",
       "       'Married:No', 'Married:Yes', 'Self_Employed:-99999', 'Self_Employed:No',\n",
       "       'Self_Employed:Yes', 'Credit_History:-99999', 'Credit_History:0.0',\n",
       "       'Credit_History:1.0'],\n",
       "      dtype='object')"
      ]
     },
     "execution_count": 542,
     "metadata": {},
     "output_type": "execute_result"
    }
   ],
   "source": [
    "train.columns"
   ]
  },
  {
   "cell_type": "code",
   "execution_count": 550,
   "metadata": {},
   "outputs": [],
   "source": [
    "train=train.drop(['Gender','Married','Self_Employed','Gender:-99999','Married:-99999','Self_Employed:-99999','Credit_History:-99999','Credit_History'],axis=1)"
   ]
  },
  {
   "cell_type": "code",
   "execution_count": 544,
   "metadata": {},
   "outputs": [],
   "source": [
    "train=train.fillna(0)"
   ]
  },
  {
   "cell_type": "code",
   "execution_count": 551,
   "metadata": {},
   "outputs": [
    {
     "data": {
      "text/html": [
       "<div>\n",
       "<style scoped>\n",
       "    .dataframe tbody tr th:only-of-type {\n",
       "        vertical-align: middle;\n",
       "    }\n",
       "\n",
       "    .dataframe tbody tr th {\n",
       "        vertical-align: top;\n",
       "    }\n",
       "\n",
       "    .dataframe thead th {\n",
       "        text-align: right;\n",
       "    }\n",
       "</style>\n",
       "<table border=\"1\" class=\"dataframe\">\n",
       "  <thead>\n",
       "    <tr style=\"text-align: right;\">\n",
       "      <th></th>\n",
       "      <th>Loan_ID</th>\n",
       "      <th>Dependents</th>\n",
       "      <th>Education</th>\n",
       "      <th>ApplicantIncome</th>\n",
       "      <th>CoapplicantIncome</th>\n",
       "      <th>LoanAmount</th>\n",
       "      <th>Loan_Amount_Term</th>\n",
       "      <th>Property_Area</th>\n",
       "      <th>Loan_Status</th>\n",
       "      <th>Gender:Female</th>\n",
       "      <th>Gender:Male</th>\n",
       "      <th>Married:No</th>\n",
       "      <th>Married:Yes</th>\n",
       "      <th>Self_Employed:No</th>\n",
       "      <th>Self_Employed:Yes</th>\n",
       "      <th>Credit_History:0.0</th>\n",
       "      <th>Credit_History:1.0</th>\n",
       "    </tr>\n",
       "  </thead>\n",
       "  <tbody>\n",
       "    <tr>\n",
       "      <th>0</th>\n",
       "      <td>LP001002</td>\n",
       "      <td>1</td>\n",
       "      <td>0</td>\n",
       "      <td>0.070489</td>\n",
       "      <td>0.000000</td>\n",
       "      <td>0.000000</td>\n",
       "      <td>7</td>\n",
       "      <td>2</td>\n",
       "      <td>1</td>\n",
       "      <td>0</td>\n",
       "      <td>1</td>\n",
       "      <td>1</td>\n",
       "      <td>0</td>\n",
       "      <td>1</td>\n",
       "      <td>0</td>\n",
       "      <td>0</td>\n",
       "      <td>1</td>\n",
       "    </tr>\n",
       "    <tr>\n",
       "      <th>1</th>\n",
       "      <td>LP001003</td>\n",
       "      <td>2</td>\n",
       "      <td>0</td>\n",
       "      <td>0.054830</td>\n",
       "      <td>0.036192</td>\n",
       "      <td>0.182857</td>\n",
       "      <td>7</td>\n",
       "      <td>0</td>\n",
       "      <td>0</td>\n",
       "      <td>0</td>\n",
       "      <td>1</td>\n",
       "      <td>0</td>\n",
       "      <td>1</td>\n",
       "      <td>1</td>\n",
       "      <td>0</td>\n",
       "      <td>0</td>\n",
       "      <td>1</td>\n",
       "    </tr>\n",
       "    <tr>\n",
       "      <th>2</th>\n",
       "      <td>LP001005</td>\n",
       "      <td>1</td>\n",
       "      <td>0</td>\n",
       "      <td>0.035250</td>\n",
       "      <td>0.000000</td>\n",
       "      <td>0.094286</td>\n",
       "      <td>7</td>\n",
       "      <td>2</td>\n",
       "      <td>1</td>\n",
       "      <td>0</td>\n",
       "      <td>1</td>\n",
       "      <td>0</td>\n",
       "      <td>1</td>\n",
       "      <td>0</td>\n",
       "      <td>1</td>\n",
       "      <td>0</td>\n",
       "      <td>1</td>\n",
       "    </tr>\n",
       "    <tr>\n",
       "      <th>3</th>\n",
       "      <td>LP001006</td>\n",
       "      <td>1</td>\n",
       "      <td>1</td>\n",
       "      <td>0.030093</td>\n",
       "      <td>0.056592</td>\n",
       "      <td>0.171429</td>\n",
       "      <td>7</td>\n",
       "      <td>2</td>\n",
       "      <td>1</td>\n",
       "      <td>0</td>\n",
       "      <td>1</td>\n",
       "      <td>0</td>\n",
       "      <td>1</td>\n",
       "      <td>1</td>\n",
       "      <td>0</td>\n",
       "      <td>0</td>\n",
       "      <td>1</td>\n",
       "    </tr>\n",
       "    <tr>\n",
       "      <th>4</th>\n",
       "      <td>LP001008</td>\n",
       "      <td>1</td>\n",
       "      <td>0</td>\n",
       "      <td>0.072356</td>\n",
       "      <td>0.000000</td>\n",
       "      <td>0.201429</td>\n",
       "      <td>7</td>\n",
       "      <td>2</td>\n",
       "      <td>1</td>\n",
       "      <td>0</td>\n",
       "      <td>1</td>\n",
       "      <td>1</td>\n",
       "      <td>0</td>\n",
       "      <td>1</td>\n",
       "      <td>0</td>\n",
       "      <td>0</td>\n",
       "      <td>1</td>\n",
       "    </tr>\n",
       "  </tbody>\n",
       "</table>\n",
       "</div>"
      ],
      "text/plain": [
       "    Loan_ID  Dependents  Education  ApplicantIncome  CoapplicantIncome  \\\n",
       "0  LP001002           1          0         0.070489           0.000000   \n",
       "1  LP001003           2          0         0.054830           0.036192   \n",
       "2  LP001005           1          0         0.035250           0.000000   \n",
       "3  LP001006           1          1         0.030093           0.056592   \n",
       "4  LP001008           1          0         0.072356           0.000000   \n",
       "\n",
       "   LoanAmount  Loan_Amount_Term  Property_Area  Loan_Status  Gender:Female  \\\n",
       "0    0.000000                 7              2            1              0   \n",
       "1    0.182857                 7              0            0              0   \n",
       "2    0.094286                 7              2            1              0   \n",
       "3    0.171429                 7              2            1              0   \n",
       "4    0.201429                 7              2            1              0   \n",
       "\n",
       "   Gender:Male  Married:No  Married:Yes  Self_Employed:No  Self_Employed:Yes  \\\n",
       "0            1           1            0                 1                  0   \n",
       "1            1           0            1                 1                  0   \n",
       "2            1           0            1                 0                  1   \n",
       "3            1           0            1                 1                  0   \n",
       "4            1           1            0                 1                  0   \n",
       "\n",
       "   Credit_History:0.0  Credit_History:1.0  \n",
       "0                   0                   1  \n",
       "1                   0                   1  \n",
       "2                   0                   1  \n",
       "3                   0                   1  \n",
       "4                   0                   1  "
      ]
     },
     "execution_count": 551,
     "metadata": {},
     "output_type": "execute_result"
    }
   ],
   "source": [
    "train.head()"
   ]
  },
  {
   "cell_type": "code",
   "execution_count": 546,
   "metadata": {},
   "outputs": [],
   "source": [
    "# Normalization\n",
    "col_nor=['ApplicantIncome','CoapplicantIncome','LoanAmount']\n",
    "for c in col_nor:\n",
    "    sc=preprocessing.MinMaxScaler(feature_range=(0,1),copy=False)\n",
    "    sc.fit(train[c].values.reshape(-1,1))\n",
    "    train[c]=sc.transform(train[c].values.reshape(-1,1))"
   ]
  },
  {
   "cell_type": "code",
   "execution_count": null,
   "metadata": {},
   "outputs": [],
   "source": [
    "#train.to_csv('prepTrain.csv')   "
   ]
  },
  {
   "cell_type": "markdown",
   "metadata": {},
   "source": [
    "# Cross Validation\n",
    "## *StratifiedKFold*"
   ]
  },
  {
   "cell_type": "code",
   "execution_count": 594,
   "metadata": {},
   "outputs": [
    {
     "name": "stdout",
     "output_type": "stream",
     "text": [
      "491 123\n",
      "491 123\n",
      "491 123\n",
      "491 123\n",
      "492 122\n"
     ]
    }
   ],
   "source": [
    "df=train.copy(deep=True)\n",
    "df['kfold']=-1   \n",
    "df=df.sample(frac=1).reset_index(drop=True) # just resampling the dataset\n",
    "kf=model_selection.StratifiedKFold(n_splits=5,shuffle=False)\n",
    "    \n",
    "for fold,(train_idx,val_idx) in enumerate(kf.split(X=df,y=df.Loan_Status.values)):\n",
    "    print(len(train_idx),len(val_idx))\n",
    "    df.loc[val_idx,'kfold']=fold"
   ]
  },
  {
   "cell_type": "markdown",
   "metadata": {},
   "source": [
    "# Training Different Models and Metrics calculation"
   ]
  },
  {
   "cell_type": "code",
   "execution_count": 595,
   "metadata": {},
   "outputs": [],
   "source": [
    "# Base models\n",
    "models={\n",
    "    'logistic':linear_model.LogisticRegression(C=0.08858667904100823, penalty='l1', solver='liblinear'),\n",
    "    'naive_bayes':naive_bayes.GaussianNB(),\n",
    "    'knn':neighbors.KNeighborsClassifier(n_neighbors= 6, p= 2, weights= 'uniform'),\n",
    "    'rf':ensemble.RandomForestClassifier(n_estimators= 150,criterion= 'entropy' ),\n",
    "    'extra_trees':ensemble.ExtraTreesClassifier(),\n",
    "    'svm':sk.svm.SVC(C= 0.1, gamma= 'auto', kernel= 'linear',probability=True),\n",
    "    'xgb':XGBClassifier(n_estimators=100,eta=0.015,max_depth=3,gamma=0.5,min_child_weight=9,reg_alpha=0.7,reg_lambda=0.3)\n",
    "}\n"
   ]
  },
  {
   "cell_type": "code",
   "execution_count": 596,
   "metadata": {},
   "outputs": [
    {
     "name": "stdout",
     "output_type": "stream",
     "text": [
      "logistic\n",
      "Average Accuracy:0.809516193522591\n",
      "Average Recall:0.9833893557422969\n",
      "Average Precision:0.7914564480226342\n",
      "Average Logloss:0.5012927633872821\n",
      "Average AUC:0.7083446928028971\n",
      "naive_bayes\n",
      "Average Accuracy:0.7737038517926162\n",
      "Average Recall:0.9099719887955182\n",
      "Average Precision:0.7927771238662328\n",
      "Average Logloss:1.3594031973208072\n",
      "Average AUC:0.7303432790120097\n",
      "knn\n",
      "Average Accuracy:0.765453818472611\n",
      "Average Recall:0.9240056022408963\n",
      "Average Precision:0.7777953948875148\n",
      "Average Logloss:2.26036425826646\n",
      "Average AUC:0.6906155282625871\n",
      "rf\n",
      "Average Accuracy:0.7915500466480074\n",
      "Average Recall:0.9406442577030812\n",
      "Average Precision:0.7950189122239392\n",
      "Average Logloss:0.5151787585616046\n",
      "Average AUC:0.7410923141186299\n",
      "extra_trees\n",
      "Average Accuracy:0.7703718512594963\n",
      "Average Recall:0.9003361344537815\n",
      "Average Precision:0.7936619028845522\n",
      "Average Logloss:0.8024506482952761\n",
      "Average AUC:0.7413994450681757\n",
      "svm\n",
      "Average Accuracy:0.809516193522591\n",
      "Average Recall:0.9833893557422969\n",
      "Average Precision:0.7914564480226342\n",
      "Average Logloss:0.48041018683550135\n",
      "Average AUC:0.7093865508416592\n",
      "xgb\n",
      "Average Accuracy:0.809516193522591\n",
      "Average Recall:0.9833893557422969\n",
      "Average Precision:0.7914564480226342\n",
      "Average Logloss:0.5009180319072103\n",
      "Average AUC:0.7179527344001029\n"
     ]
    }
   ],
   "source": [
    "\n",
    "Fold_mapping={\n",
    "    0:[1,2,3,4],\n",
    "    1:[0,2,3,4],\n",
    "    2:[0,1,3,4],\n",
    "    3:[0,1,2,4],\n",
    "    4:[0,1,2,3]\n",
    "}\n",
    "param=['accuracy','recall','precision','logloss','auc']\n",
    "mod_list=['logistic','naive_bayes','knn','rf','extra_trees','svm','xgb']\n",
    "for mod in mod_list:\n",
    "    metric_dict=dict()\n",
    "    for Fold in range(5):\n",
    "        train_df=df[df.kfold.isin(Fold_mapping.get(Fold))]\n",
    "        valid_df=df[df.kfold==Fold]\n",
    "\n",
    "\n",
    "        y_train=train_df.Loan_Status.values\n",
    "        y_valid=valid_df.Loan_Status.values\n",
    "\n",
    "        x_train=train_df.drop(['Loan_ID','Loan_Status','kfold'],axis=1)\n",
    "        x_valid=valid_df.drop(['Loan_ID','Loan_Status','kfold'],axis=1)\n",
    "\n",
    "        x_valid=x_valid[x_train.columns]    # to make the order same\n",
    "        #models\n",
    "        clf=models[mod]\n",
    "        clf.fit(x_train,y_train)\n",
    "        y_pred=clf.predict(x_valid)\n",
    "        y_prob=clf.predict_proba(x_valid)[:,1]\n",
    "        #metrics\n",
    "        a=ClassificationMetrics()\n",
    "        for p in param:\n",
    "            if p in metric_dict:\n",
    "                try:\n",
    "                    metric_dict[p].append(a(p,y_valid,y_pred))\n",
    "                except:\n",
    "                    metric_dict[p].append(a(p,y_valid,y_pred,y_prob))\n",
    "            else:\n",
    "                try:\n",
    "                    metric_dict[p]=[a(p,y_valid,y_pred)]\n",
    "                except:\n",
    "                    metric_dict[p]=[a(p,y_valid,y_pred,y_prob)]\n",
    "    print(mod)\n",
    "    print(f\"Average Accuracy:{mean(metric_dict['accuracy'])}\")\n",
    "    print(f\"Average Recall:{mean(metric_dict['recall'])}\")\n",
    "    print(f\"Average Precision:{mean(metric_dict['precision'])}\")\n",
    "    print(f\"Average Logloss:{mean(metric_dict['logloss'])}\")\n",
    "    print(f\"Average AUC:{mean(metric_dict['auc'])}\")"
   ]
  },
  {
   "cell_type": "markdown",
   "metadata": {},
   "source": [
    "#### Logistic,Random Forest and SVC are only good models"
   ]
  },
  {
   "cell_type": "markdown",
   "metadata": {},
   "source": [
    "## Previsous metrics\n",
    "### logistic\n",
    "Average Accuracy:0.7671064907370385\n",
    "Average Recall:0.8958263305322128\n",
    "Average Precision:0.7931367691448337\n",
    "Average Logloss:0.5404100848288785\n",
    "Average AUC:0.7131288817821325\n",
    "### naive_bayes\n",
    "Average Accuracy:0.7426096228175396\n",
    "Average Recall:0.8435574229691877\n",
    "Average Precision:0.7947590563759872\n",
    "Average Logloss:0.9313870165224841\n",
    "Average AUC:0.6985670624525113\n",
    "### knn\n",
    "Average Accuracy:0.7214847394375583\n",
    "Average Recall:0.9359103641456583\n",
    "Average Precision:0.7328899090925652\n",
    "Average Logloss:2.474598830947766\n",
    "Average AUC:0.6404954221904686\n",
    "### rf\n",
    "Average Accuracy:0.7394375583100093\n",
    "Average Recall:0.8745098039215686\n",
    "Average Precision:0.7757310879948649\n",
    "Average Logloss:0.5568700269995099\n",
    "Average AUC:0.7257576633892424\n",
    "### extra_trees\n",
    "Average Accuracy:0.7133813141410102\n",
    "Average Recall:0.8389355742296919\n",
    "Average Precision:0.7663507001272959\n",
    "Average Logloss:0.72797666494634\n",
    "Average AUC:0.6933479532163743\n",
    "### svm\n",
    "Average Accuracy:0.7085032653605224\n",
    "Average Recall:0.9502801120448179\n",
    "Average Precision:0.7195772229967209\n",
    "Average Logloss:0.5446935716467013\n",
    "Average AUC:0.7169051966265588\n",
    "### xgb\n",
    "Average Accuracy:0.7084366253498601\n",
    "Average Recall:0.8245378151260504\n",
    "Average Precision:0.7684979116255414\n",
    "Average Logloss:0.792259316124252\n",
    "Average AUC:0.7103909661030404"
   ]
  },
  {
   "cell_type": "markdown",
   "metadata": {},
   "source": [
    "## After Tuning\n",
    "logistic\n",
    "Average Accuracy:0.8094228975076636\n",
    "Average Recall:0.9834173669467787\n",
    "Average Precision:0.7907408959372204\n",
    "Average Logloss:0.49970764739757206\n",
    "Average AUC:0.7058014001822052\n",
    "### naive_bayes\n",
    "Average Accuracy:0.7767959482873518\n",
    "Average Recall:0.9123809523809524\n",
    "Average Precision:0.793683694479851\n",
    "Average Logloss:1.2673525484886972\n",
    "Average AUC:0.7375304683276819\n",
    "### knn\n",
    "Average Accuracy:0.7507930161268825\n",
    "Average Recall:0.9169747899159664\n",
    "Average Precision:0.7665813886134883\n",
    "Average Logloss:2.5865704974520027\n",
    "Average AUC:0.6700294287755588\n",
    "### rf\n",
    "Average Accuracy:0.7882580301212848\n",
    "Average Recall:0.9337254901960784\n",
    "Average Precision:0.7953857165936374\n",
    "Average Logloss:0.5102461414080115\n",
    "Average AUC:0.7477308750760763\n",
    "### extra_trees\n",
    "Average Accuracy:0.765453818472611\n",
    "Average Recall:0.8958263305322128\n",
    "Average Precision:0.7911971183511737\n",
    "Average Logloss:0.8242519904568911\n",
    "Average AUC:0.7280337816638126\n",
    "### svm\n",
    "Average Accuracy:0.8094228975076636\n",
    "Average Recall:0.9834173669467787\n",
    "Average Precision:0.7907408959372204\n",
    "Average Logloss:0.481464994229267\n",
    "Average AUC:0.7155270151245383\n",
    "### xgb\n",
    "Average Accuracy:0.8094228975076636\n",
    "Average Recall:0.9834173669467787\n",
    "Average Precision:0.7907408959372204\n",
    "Average Logloss:0.49776480110839066\n",
    "Average AUC:0.7304500599160042"
   ]
  },
  {
   "cell_type": "markdown",
   "metadata": {},
   "source": [
    "# Tuning of Models and Best Parameters"
   ]
  },
  {
   "cell_type": "code",
   "execution_count": 272,
   "metadata": {},
   "outputs": [],
   "source": [
    "#data for hyper tuning parameters\n",
    "x_ht=df.drop(['Loan_ID','Loan_Status','kfold'],axis=1)\n",
    "y_ht=df.Loan_Status"
   ]
  },
  {
   "cell_type": "code",
   "execution_count": 375,
   "metadata": {},
   "outputs": [],
   "source": [
    "#Grid Search\n",
    "param_log={'penalty':['l1','l2'],\n",
    "           'C':np.logspace(-4, 4, 20),\n",
    "           'solver':['liblinear']\n",
    "}\n",
    "param_rf={\n",
    "    'n_estimators':list(range(10,200,10)),\n",
    "    'criterion':['gini','entropy']\n",
    "}\n",
    "param_knn={\n",
    "    'n_neighbors':list(range(2,8)),\n",
    "    'weights':['uniform','distance'],\n",
    "    'p':[1,2]\n",
    "}\n",
    "param_svm={\n",
    "    'C':[x*0.1 for x in range(1,10)],\n",
    "    'kernel':['linear','rbf'],\n",
    "    'gamma':['auto']\n",
    "}\n",
    "param_xgb={\n",
    "    'n_estimaators':list(range(110,200,10)),\n",
    "    'eta':[0.001,0.015,0.025,0.05,1],\n",
    "    'gamma':np.arange(0,1,0.2),\n",
    "    'max_depth':list(range(1,15,2)),\n",
    "    'min_child_weight':[1,2,5,7],\n",
    "    'reg_alpha':[0,0.1,0.5,1],\n",
    "    'reg_lamda':[0.01,0.03,0.05,0.07,0.1,0.3,0.5,0.7,1]\n",
    "    \n",
    "}"
   ]
  },
  {
   "cell_type": "code",
   "execution_count": 557,
   "metadata": {},
   "outputs": [],
   "source": [
    "clf_gs_log=linear_model.LogisticRegression()\n",
    "clf_gs_knn=neighbors.KNeighborsClassifier()\n",
    "clf_gs_rf=ensemble.RandomForestClassifier()\n",
    "clf_gs_svm=sk.svm.SVC()\n",
    "# clf_gs_xgb=XGBClassifier()"
   ]
  },
  {
   "cell_type": "code",
   "execution_count": 558,
   "metadata": {},
   "outputs": [],
   "source": [
    "gs_log=GridSearchCV(clf_gs_log, param_grid = param_log, cv = 5, verbose=True, n_jobs=-1)\n",
    "gs_rf=GridSearchCV(clf_gs_rf, param_grid = param_rf, cv = 5, verbose=True, n_jobs=-1)\n",
    "gs_knn=GridSearchCV(clf_gs_knn, param_grid = param_knn, cv = 5, verbose=True, n_jobs=-1)\n",
    "gs_svm=GridSearchCV(clf_gs_svm, param_grid = param_svm, cv = 5, verbose=True, n_jobs=-1)\n",
    "# gs_xgb=GridSearchCV(clf_gs_xgb, param_grid = param_xgb,cv=2, verbose=True, n_jobs=-1)"
   ]
  },
  {
   "cell_type": "code",
   "execution_count": 559,
   "metadata": {},
   "outputs": [
    {
     "name": "stdout",
     "output_type": "stream",
     "text": [
      "Fitting 5 folds for each of 40 candidates, totalling 200 fits\n"
     ]
    },
    {
     "name": "stderr",
     "output_type": "stream",
     "text": [
      "[Parallel(n_jobs=-1)]: Using backend LokyBackend with 4 concurrent workers.\n",
      "[Parallel(n_jobs=-1)]: Done  71 tasks      | elapsed:    2.6s\n"
     ]
    },
    {
     "name": "stdout",
     "output_type": "stream",
     "text": [
      "LogisticRegression(C=0.08858667904100823, penalty='l1', solver='liblinear') 0.7703585232573638 {'C': 0.08858667904100823, 'penalty': 'l1', 'solver': 'liblinear'}\n"
     ]
    },
    {
     "name": "stderr",
     "output_type": "stream",
     "text": [
      "[Parallel(n_jobs=-1)]: Done 200 out of 200 | elapsed:    4.0s finished\n"
     ]
    }
   ],
   "source": [
    "gs_log.fit(x_ht,y_ht)\n",
    "print(gs_log.best_estimator_,gs_log.best_score_,gs_log.best_params_)"
   ]
  },
  {
   "cell_type": "code",
   "execution_count": 560,
   "metadata": {},
   "outputs": [
    {
     "name": "stdout",
     "output_type": "stream",
     "text": [
      "Fitting 5 folds for each of 38 candidates, totalling 190 fits\n"
     ]
    },
    {
     "name": "stderr",
     "output_type": "stream",
     "text": [
      "[Parallel(n_jobs=-1)]: Using backend LokyBackend with 4 concurrent workers.\n",
      "[Parallel(n_jobs=-1)]: Done  42 tasks      | elapsed:    3.6s\n",
      "[Parallel(n_jobs=-1)]: Done 190 out of 190 | elapsed:   20.1s finished\n"
     ]
    },
    {
     "name": "stdout",
     "output_type": "stream",
     "text": [
      "RandomForestClassifier(criterion='entropy', n_estimators=140) 0.7524723443955752 {'criterion': 'entropy', 'n_estimators': 140}\n"
     ]
    }
   ],
   "source": [
    "gs_rf.fit(x_ht,y_ht)\n",
    "print(gs_rf.best_estimator_,gs_rf.best_score_,gs_rf.best_params_)"
   ]
  },
  {
   "cell_type": "code",
   "execution_count": 342,
   "metadata": {},
   "outputs": [
    {
     "name": "stdout",
     "output_type": "stream",
     "text": [
      "Fitting 5 folds for each of 24 candidates, totalling 120 fits\n"
     ]
    },
    {
     "name": "stderr",
     "output_type": "stream",
     "text": [
      "[Parallel(n_jobs=-1)]: Using backend LokyBackend with 4 concurrent workers.\n"
     ]
    },
    {
     "name": "stdout",
     "output_type": "stream",
     "text": [
      "KNeighborsClassifier(n_neighbors=6) 0.7215380514460883 {'n_neighbors': 6, 'p': 2, 'weights': 'uniform'}\n"
     ]
    },
    {
     "name": "stderr",
     "output_type": "stream",
     "text": [
      "[Parallel(n_jobs=-1)]: Done 120 out of 120 | elapsed:    0.7s finished\n"
     ]
    }
   ],
   "source": [
    "gs_knn.fit(x_ht,y_ht)\n",
    "print(gs_knn.best_estimator_,gs_knn.best_score_,gs_knn.best_params_)"
   ]
  },
  {
   "cell_type": "code",
   "execution_count": 561,
   "metadata": {},
   "outputs": [
    {
     "name": "stdout",
     "output_type": "stream",
     "text": [
      "Fitting 5 folds for each of 18 candidates, totalling 90 fits\n"
     ]
    },
    {
     "name": "stderr",
     "output_type": "stream",
     "text": [
      "[Parallel(n_jobs=-1)]: Using backend LokyBackend with 4 concurrent workers.\n"
     ]
    },
    {
     "name": "stdout",
     "output_type": "stream",
     "text": [
      "SVC(C=0.1, gamma='auto', kernel='linear') 0.7703585232573638 {'C': 0.1, 'gamma': 'auto', 'kernel': 'linear'}\n"
     ]
    },
    {
     "name": "stderr",
     "output_type": "stream",
     "text": [
      "[Parallel(n_jobs=-1)]: Done  90 out of  90 | elapsed:    0.6s finished\n"
     ]
    }
   ],
   "source": [
    "gs_svm.fit(x_ht,y_ht)\n",
    "print(gs_svm.best_estimator_,gs_svm.best_score_,gs_svm.best_params_)"
   ]
  },
  {
   "cell_type": "code",
   "execution_count": 562,
   "metadata": {},
   "outputs": [],
   "source": [
    "# gs_xgb.fit(x_ht,y_ht)\n",
    "# print(gs_xgb.best_estimator_,gs_xdb.best_score_,gs_xgb.best_params_)"
   ]
  },
  {
   "cell_type": "markdown",
   "metadata": {},
   "source": [
    "# Preprocessing test Data"
   ]
  },
  {
   "cell_type": "code",
   "execution_count": 567,
   "metadata": {},
   "outputs": [
    {
     "data": {
      "text/html": [
       "<div>\n",
       "<style scoped>\n",
       "    .dataframe tbody tr th:only-of-type {\n",
       "        vertical-align: middle;\n",
       "    }\n",
       "\n",
       "    .dataframe tbody tr th {\n",
       "        vertical-align: top;\n",
       "    }\n",
       "\n",
       "    .dataframe thead th {\n",
       "        text-align: right;\n",
       "    }\n",
       "</style>\n",
       "<table border=\"1\" class=\"dataframe\">\n",
       "  <thead>\n",
       "    <tr style=\"text-align: right;\">\n",
       "      <th></th>\n",
       "      <th>Loan_ID</th>\n",
       "      <th>Gender</th>\n",
       "      <th>Married</th>\n",
       "      <th>Dependents</th>\n",
       "      <th>Education</th>\n",
       "      <th>Self_Employed</th>\n",
       "      <th>ApplicantIncome</th>\n",
       "      <th>CoapplicantIncome</th>\n",
       "      <th>LoanAmount</th>\n",
       "      <th>Loan_Amount_Term</th>\n",
       "      <th>Credit_History</th>\n",
       "      <th>Property_Area</th>\n",
       "    </tr>\n",
       "  </thead>\n",
       "  <tbody>\n",
       "    <tr>\n",
       "      <th>0</th>\n",
       "      <td>LP001015</td>\n",
       "      <td>Male</td>\n",
       "      <td>Yes</td>\n",
       "      <td>0</td>\n",
       "      <td>Graduate</td>\n",
       "      <td>No</td>\n",
       "      <td>5720</td>\n",
       "      <td>0</td>\n",
       "      <td>110.0</td>\n",
       "      <td>360.0</td>\n",
       "      <td>1.0</td>\n",
       "      <td>Urban</td>\n",
       "    </tr>\n",
       "    <tr>\n",
       "      <th>1</th>\n",
       "      <td>LP001022</td>\n",
       "      <td>Male</td>\n",
       "      <td>Yes</td>\n",
       "      <td>1</td>\n",
       "      <td>Graduate</td>\n",
       "      <td>No</td>\n",
       "      <td>3076</td>\n",
       "      <td>1500</td>\n",
       "      <td>126.0</td>\n",
       "      <td>360.0</td>\n",
       "      <td>1.0</td>\n",
       "      <td>Urban</td>\n",
       "    </tr>\n",
       "    <tr>\n",
       "      <th>2</th>\n",
       "      <td>LP001031</td>\n",
       "      <td>Male</td>\n",
       "      <td>Yes</td>\n",
       "      <td>2</td>\n",
       "      <td>Graduate</td>\n",
       "      <td>No</td>\n",
       "      <td>5000</td>\n",
       "      <td>1800</td>\n",
       "      <td>208.0</td>\n",
       "      <td>360.0</td>\n",
       "      <td>1.0</td>\n",
       "      <td>Urban</td>\n",
       "    </tr>\n",
       "    <tr>\n",
       "      <th>3</th>\n",
       "      <td>LP001035</td>\n",
       "      <td>Male</td>\n",
       "      <td>Yes</td>\n",
       "      <td>2</td>\n",
       "      <td>Graduate</td>\n",
       "      <td>No</td>\n",
       "      <td>2340</td>\n",
       "      <td>2546</td>\n",
       "      <td>100.0</td>\n",
       "      <td>360.0</td>\n",
       "      <td>NaN</td>\n",
       "      <td>Urban</td>\n",
       "    </tr>\n",
       "    <tr>\n",
       "      <th>4</th>\n",
       "      <td>LP001051</td>\n",
       "      <td>Male</td>\n",
       "      <td>No</td>\n",
       "      <td>0</td>\n",
       "      <td>Not Graduate</td>\n",
       "      <td>No</td>\n",
       "      <td>3276</td>\n",
       "      <td>0</td>\n",
       "      <td>78.0</td>\n",
       "      <td>360.0</td>\n",
       "      <td>1.0</td>\n",
       "      <td>Urban</td>\n",
       "    </tr>\n",
       "  </tbody>\n",
       "</table>\n",
       "</div>"
      ],
      "text/plain": [
       "    Loan_ID Gender Married Dependents     Education Self_Employed  \\\n",
       "0  LP001015   Male     Yes          0      Graduate            No   \n",
       "1  LP001022   Male     Yes          1      Graduate            No   \n",
       "2  LP001031   Male     Yes          2      Graduate            No   \n",
       "3  LP001035   Male     Yes          2      Graduate            No   \n",
       "4  LP001051   Male      No          0  Not Graduate            No   \n",
       "\n",
       "   ApplicantIncome  CoapplicantIncome  LoanAmount  Loan_Amount_Term  \\\n",
       "0             5720                  0       110.0             360.0   \n",
       "1             3076               1500       126.0             360.0   \n",
       "2             5000               1800       208.0             360.0   \n",
       "3             2340               2546       100.0             360.0   \n",
       "4             3276                  0        78.0             360.0   \n",
       "\n",
       "   Credit_History Property_Area  \n",
       "0             1.0         Urban  \n",
       "1             1.0         Urban  \n",
       "2             1.0         Urban  \n",
       "3             NaN         Urban  \n",
       "4             1.0         Urban  "
      ]
     },
     "execution_count": 567,
     "metadata": {},
     "output_type": "execute_result"
    }
   ],
   "source": [
    "test.head()"
   ]
  },
  {
   "cell_type": "code",
   "execution_count": 569,
   "metadata": {},
   "outputs": [
    {
     "data": {
      "text/plain": [
       "Loan_ID               0\n",
       "Gender               11\n",
       "Married               0\n",
       "Dependents           10\n",
       "Education             0\n",
       "Self_Employed        23\n",
       "ApplicantIncome       0\n",
       "CoapplicantIncome     0\n",
       "LoanAmount            5\n",
       "Loan_Amount_Term      6\n",
       "Credit_History       29\n",
       "Property_Area         0\n",
       "dtype: int64"
      ]
     },
     "execution_count": 569,
     "metadata": {},
     "output_type": "execute_result"
    }
   ],
   "source": [
    "#checking nulls\n",
    "test.isnull().sum()"
   ]
  },
  {
   "cell_type": "code",
   "execution_count": 572,
   "metadata": {},
   "outputs": [],
   "source": [
    "#imputing missing values:\n",
    "col=['Gender','Self_Employed','Dependents','Credit_History','Loan_Amount_Term']\n",
    "cols=[]\n",
    "for c in col:\n",
    "    test.loc[:,c]=test.loc[:,col].fillna('-99999').astype(str)"
   ]
  },
  {
   "cell_type": "code",
   "execution_count": 573,
   "metadata": {},
   "outputs": [
    {
     "name": "stdout",
     "output_type": "stream",
     "text": [
      "Loan_ID 367\n",
      "Gender 3\n",
      "Married 2\n",
      "Dependents 5\n",
      "Education 2\n",
      "Self_Employed 3\n",
      "ApplicantIncome 314\n",
      "CoapplicantIncome 194\n",
      "LoanAmount 144\n",
      "Loan_Amount_Term 13\n",
      "Credit_History 3\n",
      "Property_Area 3\n"
     ]
    }
   ],
   "source": [
    "#number of catergories\n",
    "for c in test.columns.values:\n",
    "    print(c,test[c].nunique())"
   ]
  },
  {
   "cell_type": "code",
   "execution_count": 574,
   "metadata": {},
   "outputs": [],
   "source": [
    "#categorical encoding\n",
    "cols_le=['Dependents','Education','Property_Area','Loan_Amount_Term']\n",
    "for c in cols_le:\n",
    "    le=preprocessing.LabelEncoder()\n",
    "    le.fit(test[c].values)\n",
    "    test.loc[:,c]=le.transform(test[c].values)"
   ]
  },
  {
   "cell_type": "code",
   "execution_count": 576,
   "metadata": {},
   "outputs": [],
   "source": [
    "cols=['Gender','Married','Self_Employed','Credit_History']\n",
    "for c in cols:\n",
    "    df=pd.get_dummies(test[c],prefix=c,prefix_sep=':')\n",
    "    test=pd.concat([test,df],axis=1)"
   ]
  },
  {
   "cell_type": "code",
   "execution_count": 577,
   "metadata": {},
   "outputs": [
    {
     "data": {
      "text/plain": [
       "array(['Loan_ID', 'Gender', 'Married', 'Dependents', 'Education',\n",
       "       'Self_Employed', 'ApplicantIncome', 'CoapplicantIncome',\n",
       "       'LoanAmount', 'Loan_Amount_Term', 'Credit_History',\n",
       "       'Property_Area', 'Gender:-99999', 'Gender:Female', 'Gender:Male',\n",
       "       'Married:No', 'Married:Yes', 'Self_Employed:-99999',\n",
       "       'Self_Employed:No', 'Self_Employed:Yes', 'Credit_History:-99999',\n",
       "       'Credit_History:0.0', 'Credit_History:1.0'], dtype=object)"
      ]
     },
     "execution_count": 577,
     "metadata": {},
     "output_type": "execute_result"
    }
   ],
   "source": [
    "test.columns.values"
   ]
  },
  {
   "cell_type": "code",
   "execution_count": 580,
   "metadata": {},
   "outputs": [],
   "source": [
    "test=test.drop(['Loan_ID','Gender','Married','Self_Employed','Gender:-99999','Self_Employed:-99999','Credit_History:-99999','Credit_History'],axis=1)"
   ]
  },
  {
   "cell_type": "code",
   "execution_count": 583,
   "metadata": {},
   "outputs": [],
   "source": [
    "test=test.fillna(0)"
   ]
  },
  {
   "cell_type": "code",
   "execution_count": 584,
   "metadata": {},
   "outputs": [],
   "source": [
    "# Normalization\n",
    "col_nor=['ApplicantIncome','CoapplicantIncome','LoanAmount']\n",
    "for c in col_nor:\n",
    "    sc=preprocessing.MinMaxScaler(feature_range=(0,1),copy=False)\n",
    "    sc.fit(test[c].values.reshape(-1,1))\n",
    "    test[c]=sc.transform(test[c].values.reshape(-1,1))"
   ]
  },
  {
   "cell_type": "markdown",
   "metadata": {},
   "source": [
    "# Prediction"
   ]
  },
  {
   "cell_type": "code",
   "execution_count": 586,
   "metadata": {},
   "outputs": [
    {
     "data": {
      "text/plain": [
       "array(['Dependents', 'Education', 'ApplicantIncome', 'CoapplicantIncome',\n",
       "       'LoanAmount', 'Loan_Amount_Term', 'Property_Area', 'Gender:Female',\n",
       "       'Gender:Male', 'Married:No', 'Married:Yes', 'Self_Employed:No',\n",
       "       'Self_Employed:Yes', 'Credit_History:0.0', 'Credit_History:1.0'],\n",
       "      dtype=object)"
      ]
     },
     "execution_count": 586,
     "metadata": {},
     "output_type": "execute_result"
    }
   ],
   "source": [
    "test.columns.values"
   ]
  },
  {
   "cell_type": "code",
   "execution_count": 565,
   "metadata": {},
   "outputs": [],
   "source": [
    "final_x=train.drop(['Loan_ID','Loan_Status',],axis=1)\n",
    "final_y=train.Loan_Status.values"
   ]
  },
  {
   "cell_type": "code",
   "execution_count": 587,
   "metadata": {},
   "outputs": [],
   "source": [
    "# Test Data\n",
    "test=test[final_x.columns]"
   ]
  },
  {
   "cell_type": "code",
   "execution_count": 589,
   "metadata": {},
   "outputs": [
    {
     "data": {
      "text/html": [
       "<div>\n",
       "<style scoped>\n",
       "    .dataframe tbody tr th:only-of-type {\n",
       "        vertical-align: middle;\n",
       "    }\n",
       "\n",
       "    .dataframe tbody tr th {\n",
       "        vertical-align: top;\n",
       "    }\n",
       "\n",
       "    .dataframe thead th {\n",
       "        text-align: right;\n",
       "    }\n",
       "</style>\n",
       "<table border=\"1\" class=\"dataframe\">\n",
       "  <thead>\n",
       "    <tr style=\"text-align: right;\">\n",
       "      <th></th>\n",
       "      <th>Dependents</th>\n",
       "      <th>Education</th>\n",
       "      <th>ApplicantIncome</th>\n",
       "      <th>CoapplicantIncome</th>\n",
       "      <th>LoanAmount</th>\n",
       "      <th>Loan_Amount_Term</th>\n",
       "      <th>Property_Area</th>\n",
       "      <th>Gender:Female</th>\n",
       "      <th>Gender:Male</th>\n",
       "      <th>Married:No</th>\n",
       "      <th>Married:Yes</th>\n",
       "      <th>Self_Employed:No</th>\n",
       "      <th>Self_Employed:Yes</th>\n",
       "      <th>Credit_History:0.0</th>\n",
       "      <th>Credit_History:1.0</th>\n",
       "    </tr>\n",
       "  </thead>\n",
       "  <tbody>\n",
       "    <tr>\n",
       "      <th>0</th>\n",
       "      <td>1</td>\n",
       "      <td>0</td>\n",
       "      <td>0.078865</td>\n",
       "      <td>0.000000</td>\n",
       "      <td>0.200000</td>\n",
       "      <td>8</td>\n",
       "      <td>2</td>\n",
       "      <td>0</td>\n",
       "      <td>1</td>\n",
       "      <td>0</td>\n",
       "      <td>1</td>\n",
       "      <td>1</td>\n",
       "      <td>0</td>\n",
       "      <td>0</td>\n",
       "      <td>1</td>\n",
       "    </tr>\n",
       "    <tr>\n",
       "      <th>1</th>\n",
       "      <td>2</td>\n",
       "      <td>0</td>\n",
       "      <td>0.042411</td>\n",
       "      <td>0.062500</td>\n",
       "      <td>0.229091</td>\n",
       "      <td>8</td>\n",
       "      <td>2</td>\n",
       "      <td>0</td>\n",
       "      <td>1</td>\n",
       "      <td>0</td>\n",
       "      <td>1</td>\n",
       "      <td>1</td>\n",
       "      <td>0</td>\n",
       "      <td>0</td>\n",
       "      <td>1</td>\n",
       "    </tr>\n",
       "    <tr>\n",
       "      <th>2</th>\n",
       "      <td>3</td>\n",
       "      <td>0</td>\n",
       "      <td>0.068938</td>\n",
       "      <td>0.075000</td>\n",
       "      <td>0.378182</td>\n",
       "      <td>8</td>\n",
       "      <td>2</td>\n",
       "      <td>0</td>\n",
       "      <td>1</td>\n",
       "      <td>0</td>\n",
       "      <td>1</td>\n",
       "      <td>1</td>\n",
       "      <td>0</td>\n",
       "      <td>0</td>\n",
       "      <td>1</td>\n",
       "    </tr>\n",
       "    <tr>\n",
       "      <th>3</th>\n",
       "      <td>3</td>\n",
       "      <td>0</td>\n",
       "      <td>0.032263</td>\n",
       "      <td>0.106083</td>\n",
       "      <td>0.181818</td>\n",
       "      <td>8</td>\n",
       "      <td>2</td>\n",
       "      <td>0</td>\n",
       "      <td>1</td>\n",
       "      <td>0</td>\n",
       "      <td>1</td>\n",
       "      <td>1</td>\n",
       "      <td>0</td>\n",
       "      <td>0</td>\n",
       "      <td>0</td>\n",
       "    </tr>\n",
       "    <tr>\n",
       "      <th>4</th>\n",
       "      <td>1</td>\n",
       "      <td>1</td>\n",
       "      <td>0.045168</td>\n",
       "      <td>0.000000</td>\n",
       "      <td>0.141818</td>\n",
       "      <td>8</td>\n",
       "      <td>2</td>\n",
       "      <td>0</td>\n",
       "      <td>1</td>\n",
       "      <td>1</td>\n",
       "      <td>0</td>\n",
       "      <td>1</td>\n",
       "      <td>0</td>\n",
       "      <td>0</td>\n",
       "      <td>1</td>\n",
       "    </tr>\n",
       "  </tbody>\n",
       "</table>\n",
       "</div>"
      ],
      "text/plain": [
       "   Dependents  Education  ApplicantIncome  CoapplicantIncome  LoanAmount  \\\n",
       "0           1          0         0.078865           0.000000    0.200000   \n",
       "1           2          0         0.042411           0.062500    0.229091   \n",
       "2           3          0         0.068938           0.075000    0.378182   \n",
       "3           3          0         0.032263           0.106083    0.181818   \n",
       "4           1          1         0.045168           0.000000    0.141818   \n",
       "\n",
       "   Loan_Amount_Term  Property_Area  Gender:Female  Gender:Male  Married:No  \\\n",
       "0                 8              2              0            1           0   \n",
       "1                 8              2              0            1           0   \n",
       "2                 8              2              0            1           0   \n",
       "3                 8              2              0            1           0   \n",
       "4                 8              2              0            1           1   \n",
       "\n",
       "   Married:Yes  Self_Employed:No  Self_Employed:Yes  Credit_History:0.0  \\\n",
       "0            1                 1                  0                   0   \n",
       "1            1                 1                  0                   0   \n",
       "2            1                 1                  0                   0   \n",
       "3            1                 1                  0                   0   \n",
       "4            0                 1                  0                   0   \n",
       "\n",
       "   Credit_History:1.0  \n",
       "0                   1  \n",
       "1                   1  \n",
       "2                   1  \n",
       "3                   0  \n",
       "4                   1  "
      ]
     },
     "execution_count": 589,
     "metadata": {},
     "output_type": "execute_result"
    }
   ],
   "source": [
    "test.head()"
   ]
  },
  {
   "cell_type": "code",
   "execution_count": 612,
   "metadata": {},
   "outputs": [],
   "source": [
    "#tuned models logistic,SVC, XGBoost\n",
    "clf_log=models['logistic']\n",
    "clf_svm=models['svm']\n",
    "clf_xgb=models['xgb']\n",
    "clf_rf=models['rf']"
   ]
  },
  {
   "cell_type": "code",
   "execution_count": 613,
   "metadata": {},
   "outputs": [
    {
     "data": {
      "text/plain": [
       "RandomForestClassifier(criterion='entropy', n_estimators=150)"
      ]
     },
     "execution_count": 613,
     "metadata": {},
     "output_type": "execute_result"
    }
   ],
   "source": [
    "#Fitted Model\n",
    "clf_log.fit(final_x,final_y)\n",
    "clf_svm.fit(final_x,final_y)\n",
    "clf_xgb.fit(final_x,final_y)\n",
    "clf_rf.fit(final_x,final_y)"
   ]
  },
  {
   "cell_type": "code",
   "execution_count": 614,
   "metadata": {},
   "outputs": [],
   "source": [
    "sample['log']=clf_log.predict_proba(test)[:,1]\n",
    "sample['svm']=clf_svm.predict_proba(test)[:,1]\n",
    "sample['xgb']=clf_xgb.predict_proba(test)[:,1]\n",
    "sample['rf']=clf_rf.predict_proba(test)[:,1]"
   ]
  },
  {
   "cell_type": "code",
   "execution_count": 615,
   "metadata": {},
   "outputs": [
    {
     "data": {
      "text/html": [
       "<div>\n",
       "<style scoped>\n",
       "    .dataframe tbody tr th:only-of-type {\n",
       "        vertical-align: middle;\n",
       "    }\n",
       "\n",
       "    .dataframe tbody tr th {\n",
       "        vertical-align: top;\n",
       "    }\n",
       "\n",
       "    .dataframe thead th {\n",
       "        text-align: right;\n",
       "    }\n",
       "</style>\n",
       "<table border=\"1\" class=\"dataframe\">\n",
       "  <thead>\n",
       "    <tr style=\"text-align: right;\">\n",
       "      <th></th>\n",
       "      <th>Loan_ID</th>\n",
       "      <th>Loan_Status</th>\n",
       "      <th>log</th>\n",
       "      <th>svm</th>\n",
       "      <th>xgb</th>\n",
       "      <th>Loan_prob</th>\n",
       "      <th>rf</th>\n",
       "    </tr>\n",
       "  </thead>\n",
       "  <tbody>\n",
       "    <tr>\n",
       "      <th>0</th>\n",
       "      <td>LP001015</td>\n",
       "      <td>Y</td>\n",
       "      <td>0.798060</td>\n",
       "      <td>0.793078</td>\n",
       "      <td>0.740109</td>\n",
       "      <td>0.777082</td>\n",
       "      <td>0.820000</td>\n",
       "    </tr>\n",
       "    <tr>\n",
       "      <th>1</th>\n",
       "      <td>LP001022</td>\n",
       "      <td>Y</td>\n",
       "      <td>0.801555</td>\n",
       "      <td>0.793095</td>\n",
       "      <td>0.717269</td>\n",
       "      <td>0.770640</td>\n",
       "      <td>0.600000</td>\n",
       "    </tr>\n",
       "    <tr>\n",
       "      <th>2</th>\n",
       "      <td>LP001031</td>\n",
       "      <td>Y</td>\n",
       "      <td>0.805005</td>\n",
       "      <td>0.793140</td>\n",
       "      <td>0.705812</td>\n",
       "      <td>0.767986</td>\n",
       "      <td>0.666667</td>\n",
       "    </tr>\n",
       "    <tr>\n",
       "      <th>3</th>\n",
       "      <td>LP001035</td>\n",
       "      <td>Y</td>\n",
       "      <td>0.671379</td>\n",
       "      <td>0.793004</td>\n",
       "      <td>0.780198</td>\n",
       "      <td>0.748194</td>\n",
       "      <td>0.753333</td>\n",
       "    </tr>\n",
       "    <tr>\n",
       "      <th>4</th>\n",
       "      <td>LP001051</td>\n",
       "      <td>Y</td>\n",
       "      <td>0.773141</td>\n",
       "      <td>0.792997</td>\n",
       "      <td>0.723939</td>\n",
       "      <td>0.763359</td>\n",
       "      <td>0.426667</td>\n",
       "    </tr>\n",
       "  </tbody>\n",
       "</table>\n",
       "</div>"
      ],
      "text/plain": [
       "    Loan_ID Loan_Status       log       svm       xgb  Loan_prob        rf\n",
       "0  LP001015           Y  0.798060  0.793078  0.740109   0.777082  0.820000\n",
       "1  LP001022           Y  0.801555  0.793095  0.717269   0.770640  0.600000\n",
       "2  LP001031           Y  0.805005  0.793140  0.705812   0.767986  0.666667\n",
       "3  LP001035           Y  0.671379  0.793004  0.780198   0.748194  0.753333\n",
       "4  LP001051           Y  0.773141  0.792997  0.723939   0.763359  0.426667"
      ]
     },
     "execution_count": 615,
     "metadata": {},
     "output_type": "execute_result"
    }
   ],
   "source": [
    "sample.head()"
   ]
  },
  {
   "cell_type": "code",
   "execution_count": 616,
   "metadata": {},
   "outputs": [],
   "source": [
    "sample['Loan_prob']=sample[['log','svm','xgb','rf']].mean(axis=1)"
   ]
  },
  {
   "cell_type": "code",
   "execution_count": 617,
   "metadata": {},
   "outputs": [
    {
     "data": {
      "text/html": [
       "<div>\n",
       "<style scoped>\n",
       "    .dataframe tbody tr th:only-of-type {\n",
       "        vertical-align: middle;\n",
       "    }\n",
       "\n",
       "    .dataframe tbody tr th {\n",
       "        vertical-align: top;\n",
       "    }\n",
       "\n",
       "    .dataframe thead th {\n",
       "        text-align: right;\n",
       "    }\n",
       "</style>\n",
       "<table border=\"1\" class=\"dataframe\">\n",
       "  <thead>\n",
       "    <tr style=\"text-align: right;\">\n",
       "      <th></th>\n",
       "      <th>Loan_ID</th>\n",
       "      <th>Loan_Status</th>\n",
       "      <th>log</th>\n",
       "      <th>svm</th>\n",
       "      <th>xgb</th>\n",
       "      <th>Loan_prob</th>\n",
       "      <th>rf</th>\n",
       "    </tr>\n",
       "  </thead>\n",
       "  <tbody>\n",
       "    <tr>\n",
       "      <th>0</th>\n",
       "      <td>LP001015</td>\n",
       "      <td>Y</td>\n",
       "      <td>0.798060</td>\n",
       "      <td>0.793078</td>\n",
       "      <td>0.740109</td>\n",
       "      <td>0.787812</td>\n",
       "      <td>0.820000</td>\n",
       "    </tr>\n",
       "    <tr>\n",
       "      <th>1</th>\n",
       "      <td>LP001022</td>\n",
       "      <td>Y</td>\n",
       "      <td>0.801555</td>\n",
       "      <td>0.793095</td>\n",
       "      <td>0.717269</td>\n",
       "      <td>0.727980</td>\n",
       "      <td>0.600000</td>\n",
       "    </tr>\n",
       "    <tr>\n",
       "      <th>2</th>\n",
       "      <td>LP001031</td>\n",
       "      <td>Y</td>\n",
       "      <td>0.805005</td>\n",
       "      <td>0.793140</td>\n",
       "      <td>0.705812</td>\n",
       "      <td>0.742656</td>\n",
       "      <td>0.666667</td>\n",
       "    </tr>\n",
       "    <tr>\n",
       "      <th>3</th>\n",
       "      <td>LP001035</td>\n",
       "      <td>Y</td>\n",
       "      <td>0.671379</td>\n",
       "      <td>0.793004</td>\n",
       "      <td>0.780198</td>\n",
       "      <td>0.749478</td>\n",
       "      <td>0.753333</td>\n",
       "    </tr>\n",
       "    <tr>\n",
       "      <th>4</th>\n",
       "      <td>LP001051</td>\n",
       "      <td>Y</td>\n",
       "      <td>0.773141</td>\n",
       "      <td>0.792997</td>\n",
       "      <td>0.723939</td>\n",
       "      <td>0.679186</td>\n",
       "      <td>0.426667</td>\n",
       "    </tr>\n",
       "  </tbody>\n",
       "</table>\n",
       "</div>"
      ],
      "text/plain": [
       "    Loan_ID Loan_Status       log       svm       xgb  Loan_prob        rf\n",
       "0  LP001015           Y  0.798060  0.793078  0.740109   0.787812  0.820000\n",
       "1  LP001022           Y  0.801555  0.793095  0.717269   0.727980  0.600000\n",
       "2  LP001031           Y  0.805005  0.793140  0.705812   0.742656  0.666667\n",
       "3  LP001035           Y  0.671379  0.793004  0.780198   0.749478  0.753333\n",
       "4  LP001051           Y  0.773141  0.792997  0.723939   0.679186  0.426667"
      ]
     },
     "execution_count": 617,
     "metadata": {},
     "output_type": "execute_result"
    }
   ],
   "source": [
    "sample.head()"
   ]
  },
  {
   "cell_type": "code",
   "execution_count": 618,
   "metadata": {},
   "outputs": [],
   "source": [
    "sample['Loan_Status']=np.where(sample['Loan_prob']>0.5,'Y','N')"
   ]
  },
  {
   "cell_type": "code",
   "execution_count": 611,
   "metadata": {},
   "outputs": [
    {
     "data": {
      "text/html": [
       "<div>\n",
       "<style scoped>\n",
       "    .dataframe tbody tr th:only-of-type {\n",
       "        vertical-align: middle;\n",
       "    }\n",
       "\n",
       "    .dataframe tbody tr th {\n",
       "        vertical-align: top;\n",
       "    }\n",
       "\n",
       "    .dataframe thead th {\n",
       "        text-align: right;\n",
       "    }\n",
       "</style>\n",
       "<table border=\"1\" class=\"dataframe\">\n",
       "  <thead>\n",
       "    <tr style=\"text-align: right;\">\n",
       "      <th></th>\n",
       "      <th>Loan_ID</th>\n",
       "      <th>Loan_Status</th>\n",
       "      <th>log</th>\n",
       "      <th>svm</th>\n",
       "      <th>xgb</th>\n",
       "      <th>Loan_prob</th>\n",
       "    </tr>\n",
       "  </thead>\n",
       "  <tbody>\n",
       "    <tr>\n",
       "      <th>0</th>\n",
       "      <td>LP001015</td>\n",
       "      <td>Y</td>\n",
       "      <td>0.798060</td>\n",
       "      <td>0.793078</td>\n",
       "      <td>0.740109</td>\n",
       "      <td>0.777082</td>\n",
       "    </tr>\n",
       "    <tr>\n",
       "      <th>1</th>\n",
       "      <td>LP001022</td>\n",
       "      <td>Y</td>\n",
       "      <td>0.801555</td>\n",
       "      <td>0.793095</td>\n",
       "      <td>0.717269</td>\n",
       "      <td>0.770640</td>\n",
       "    </tr>\n",
       "    <tr>\n",
       "      <th>2</th>\n",
       "      <td>LP001031</td>\n",
       "      <td>Y</td>\n",
       "      <td>0.805005</td>\n",
       "      <td>0.793140</td>\n",
       "      <td>0.705812</td>\n",
       "      <td>0.767986</td>\n",
       "    </tr>\n",
       "    <tr>\n",
       "      <th>3</th>\n",
       "      <td>LP001035</td>\n",
       "      <td>Y</td>\n",
       "      <td>0.671379</td>\n",
       "      <td>0.793004</td>\n",
       "      <td>0.780198</td>\n",
       "      <td>0.748194</td>\n",
       "    </tr>\n",
       "    <tr>\n",
       "      <th>4</th>\n",
       "      <td>LP001051</td>\n",
       "      <td>Y</td>\n",
       "      <td>0.773141</td>\n",
       "      <td>0.792997</td>\n",
       "      <td>0.723939</td>\n",
       "      <td>0.763359</td>\n",
       "    </tr>\n",
       "  </tbody>\n",
       "</table>\n",
       "</div>"
      ],
      "text/plain": [
       "    Loan_ID Loan_Status       log       svm       xgb  Loan_prob\n",
       "0  LP001015           Y  0.798060  0.793078  0.740109   0.777082\n",
       "1  LP001022           Y  0.801555  0.793095  0.717269   0.770640\n",
       "2  LP001031           Y  0.805005  0.793140  0.705812   0.767986\n",
       "3  LP001035           Y  0.671379  0.793004  0.780198   0.748194\n",
       "4  LP001051           Y  0.773141  0.792997  0.723939   0.763359"
      ]
     },
     "execution_count": 611,
     "metadata": {},
     "output_type": "execute_result"
    }
   ],
   "source": [
    "sample.head()"
   ]
  },
  {
   "cell_type": "code",
   "execution_count": 621,
   "metadata": {},
   "outputs": [],
   "source": [
    "final_df=sample[['Loan_ID','Loan_Status']]"
   ]
  },
  {
   "cell_type": "code",
   "execution_count": 632,
   "metadata": {},
   "outputs": [
    {
     "data": {
      "text/html": [
       "<div>\n",
       "<style scoped>\n",
       "    .dataframe tbody tr th:only-of-type {\n",
       "        vertical-align: middle;\n",
       "    }\n",
       "\n",
       "    .dataframe tbody tr th {\n",
       "        vertical-align: top;\n",
       "    }\n",
       "\n",
       "    .dataframe thead th {\n",
       "        text-align: right;\n",
       "    }\n",
       "</style>\n",
       "<table border=\"1\" class=\"dataframe\">\n",
       "  <thead>\n",
       "    <tr style=\"text-align: right;\">\n",
       "      <th></th>\n",
       "      <th>Loan_ID</th>\n",
       "      <th>Loan_Status</th>\n",
       "    </tr>\n",
       "  </thead>\n",
       "  <tbody>\n",
       "    <tr>\n",
       "      <th>0</th>\n",
       "      <td>LP001015</td>\n",
       "      <td>Y</td>\n",
       "    </tr>\n",
       "    <tr>\n",
       "      <th>1</th>\n",
       "      <td>LP001022</td>\n",
       "      <td>Y</td>\n",
       "    </tr>\n",
       "    <tr>\n",
       "      <th>2</th>\n",
       "      <td>LP001031</td>\n",
       "      <td>Y</td>\n",
       "    </tr>\n",
       "    <tr>\n",
       "      <th>3</th>\n",
       "      <td>LP001035</td>\n",
       "      <td>Y</td>\n",
       "    </tr>\n",
       "    <tr>\n",
       "      <th>4</th>\n",
       "      <td>LP001051</td>\n",
       "      <td>Y</td>\n",
       "    </tr>\n",
       "  </tbody>\n",
       "</table>\n",
       "</div>"
      ],
      "text/plain": [
       "    Loan_ID Loan_Status\n",
       "0  LP001015           Y\n",
       "1  LP001022           Y\n",
       "2  LP001031           Y\n",
       "3  LP001035           Y\n",
       "4  LP001051           Y"
      ]
     },
     "execution_count": 632,
     "metadata": {},
     "output_type": "execute_result"
    }
   ],
   "source": [
    "final_df.head()"
   ]
  },
  {
   "cell_type": "code",
   "execution_count": 638,
   "metadata": {},
   "outputs": [],
   "source": [
    "final_df.to_csv('final_df.csv',index=False)"
   ]
  },
  {
   "cell_type": "code",
   "execution_count": null,
   "metadata": {},
   "outputs": [],
   "source": []
  }
 ],
 "metadata": {
  "kernelspec": {
   "display_name": "Python 3",
   "language": "python",
   "name": "python3"
  },
  "language_info": {
   "codemirror_mode": {
    "name": "ipython",
    "version": 3
   },
   "file_extension": ".py",
   "mimetype": "text/x-python",
   "name": "python",
   "nbconvert_exporter": "python",
   "pygments_lexer": "ipython3",
   "version": "3.7.7"
  }
 },
 "nbformat": 4,
 "nbformat_minor": 4
}
